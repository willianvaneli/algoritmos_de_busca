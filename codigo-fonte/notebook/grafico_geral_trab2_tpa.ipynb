{
  "nbformat": 4,
  "nbformat_minor": 0,
  "metadata": {
    "colab": {
      "name": "grafico_geral_trab2_tpa.ipynb",
      "provenance": [],
      "include_colab_link": true
    },
    "kernelspec": {
      "name": "python3",
      "display_name": "Python 3"
    }
  },
  "cells": [
    {
      "cell_type": "markdown",
      "metadata": {
        "id": "view-in-github",
        "colab_type": "text"
      },
      "source": [
        "<a href=\"https://colab.research.google.com/github/v1eira/tpa-trab2/blob/master/notebook/grafico_geral_trab2_tpa.ipynb\" target=\"_parent\"><img src=\"https://colab.research.google.com/assets/colab-badge.svg\" alt=\"Open In Colab\"/></a>"
      ]
    },
    {
      "cell_type": "code",
      "metadata": {
        "id": "Jja7PZpOKOnx",
        "colab_type": "code",
        "colab": {}
      },
      "source": [
        "import pandas as pd\n",
        "import matplotlib.pyplot as plt\n",
        "\n",
        "# Defining CSV headers\n",
        "headers = ['algorithm','number of elements','time']\n",
        "\n",
        "# Opening CSV from github\n",
        "selectionsort = pd.read_csv(\"https://raw.githubusercontent.com/v1eira/tpa-trab2/master/output/selectionsort.csv\", names=headers)\n",
        "insertionsort = pd.read_csv(\"https://raw.githubusercontent.com/v1eira/tpa-trab2/master/output/insertionsort.csv\", names=headers)\n",
        "mergesort = pd.read_csv(\"https://raw.githubusercontent.com/v1eira/tpa-trab2/master/output/mergesort.csv\", names=headers)\n",
        "heapsort = pd.read_csv(\"https://raw.githubusercontent.com/v1eira/tpa-trab2/master/output/heapsort.csv\", names=headers)\n",
        "quicksort = pd.read_csv(\"https://raw.githubusercontent.com/v1eira/tpa-trab2/master/output/quicksort.csv\", names=headers)\n",
        "introsort = pd.read_csv(\"https://raw.githubusercontent.com/v1eira/tpa-trab2/master/output/introsort.csv\", names=headers)\n",
        "patiencesort = pd.read_csv(\"https://raw.githubusercontent.com/v1eira/tpa-trab2/master/output/patiencesort.csv\", names=headers)"
      ],
      "execution_count": 0,
      "outputs": []
    },
    {
      "cell_type": "code",
      "metadata": {
        "id": "SyqCcxdMLuyx",
        "colab_type": "code",
        "colab": {}
      },
      "source": [
        "# Create array with algorithms data\n",
        "\n",
        "algorithms = [selectionsort, insertionsort, mergesort, heapsort, quicksort, introsort, patiencesort]"
      ],
      "execution_count": 0,
      "outputs": []
    },
    {
      "cell_type": "code",
      "metadata": {
        "id": "VfKtpdV9K9Qg",
        "colab_type": "code",
        "colab": {}
      },
      "source": [
        "# Creating list with the sizes of the CSVs analysed by the algorithm and sorting it\n",
        "\n",
        "sizes = [\n",
        "10,\n",
        "100,\n",
        "1000,\n",
        "10000,\n",
        "100000,\n",
        "1000000,\n",
        "25,\n",
        "250,\n",
        "2500,\n",
        "25000,\n",
        "250000,\n",
        "2500000,\n",
        "50,\n",
        "500,\n",
        "5000,\n",
        "50000,\n",
        "500000,\n",
        "5000000,\n",
        "75,\n",
        "750,\n",
        "7500,\n",
        "75000,\n",
        "750000,\n",
        "7500000]\n",
        "\n",
        "sizes.sort()"
      ],
      "execution_count": 0,
      "outputs": []
    },
    {
      "cell_type": "code",
      "metadata": {
        "id": "UKRlAHHhK9y0",
        "colab_type": "code",
        "colab": {}
      },
      "source": [
        "# Create dictionaries\n",
        "\n",
        "ss_times = {\n",
        "    \"number of elements\":[],\n",
        "    \"avg time\":[]\n",
        "}\n",
        "\n",
        "is_times = {\n",
        "    \"number of elements\":[],\n",
        "    \"avg time\":[]\n",
        "}\n",
        "\n",
        "ms_times = {\n",
        "    \"number of elements\":[],\n",
        "    \"avg time\":[]\n",
        "}\n",
        "\n",
        "hs_times = {\n",
        "    \"number of elements\":[],\n",
        "    \"avg time\":[]\n",
        "}\n",
        "\n",
        "qs_times = {\n",
        "    \"number of elements\":[],\n",
        "    \"avg time\":[]\n",
        "}\n",
        "\n",
        "it_times = {\n",
        "    \"number of elements\":[],\n",
        "    \"avg time\":[]\n",
        "}\n",
        "\n",
        "ps_times = {\n",
        "    \"number of elements\":[],\n",
        "    \"avg time\":[]\n",
        "}\n",
        "\n",
        "dictionaries = [ss_times, is_times, ms_times, hs_times, qs_times, it_times, ps_times]"
      ],
      "execution_count": 0,
      "outputs": []
    },
    {
      "cell_type": "code",
      "metadata": {
        "id": "Yq_LWMBDMbE9",
        "colab_type": "code",
        "colab": {}
      },
      "source": [
        "# Create data frames\n",
        "\n",
        "k = 0\n",
        "\n",
        "for algorithm in algorithms:\n",
        "  dic = dictionaries[k]\n",
        "  \n",
        "  for i in sizes:\n",
        "    mean_time = algorithm.loc[(algorithm['number of elements']) == i,\"time\"].mean()\n",
        "    dic[\"number of elements\"].append(i)\n",
        "    dic[\"avg time\"].append(mean_time)\n",
        "  \n",
        "  k = k + 1\n",
        "  \n",
        "\n",
        "df_1 = pd.DataFrame({\n",
        "    \"number of elements\": ss_times[\"number of elements\"],\n",
        "    \"average time\": ss_times[\"avg time\"]\n",
        "})\n",
        "\n",
        "df_2 = pd.DataFrame({\n",
        "    \"number of elements\": is_times[\"number of elements\"],\n",
        "    \"average time\": is_times[\"avg time\"]\n",
        "})\n",
        "\n",
        "df_3 = pd.DataFrame({\n",
        "    \"number of elements\": ms_times[\"number of elements\"],\n",
        "    \"average time\": ms_times[\"avg time\"]\n",
        "})\n",
        "\n",
        "df_4 = pd.DataFrame({\n",
        "    \"number of elements\": hs_times[\"number of elements\"],\n",
        "    \"average time\": hs_times[\"avg time\"]\n",
        "})\n",
        "\n",
        "df_5 = pd.DataFrame({\n",
        "    \"number of elements\": qs_times[\"number of elements\"],\n",
        "    \"average time\": qs_times[\"avg time\"]\n",
        "})\n",
        "\n",
        "df_6 = pd.DataFrame({\n",
        "    \"number of elements\": it_times[\"number of elements\"],\n",
        "    \"average time\": it_times[\"avg time\"]\n",
        "})\n",
        "\n",
        "df_7 = pd.DataFrame({\n",
        "    \"number of elements\": ps_times[\"number of elements\"],\n",
        "    \"average time\": ps_times[\"avg time\"]\n",
        "})"
      ],
      "execution_count": 0,
      "outputs": []
    },
    {
      "cell_type": "code",
      "metadata": {
        "id": "krT_4ezJWFUU",
        "colab_type": "code",
        "colab": {
          "base_uri": "https://localhost:8080/",
          "height": 442
        },
        "outputId": "1c8ffc6f-a1f1-4290-944c-94e108701b64"
      },
      "source": [
        "print(df_3)"
      ],
      "execution_count": 113,
      "outputs": [
        {
          "output_type": "stream",
          "text": [
            "    number of elements   average time\n",
            "0                   10       0.060002\n",
            "1                   25       0.136296\n",
            "2                   50       0.422319\n",
            "3                   75       0.558058\n",
            "4                  100       0.778516\n",
            "5                  250       2.544641\n",
            "6                  500       5.646706\n",
            "7                  750       8.782705\n",
            "8                 1000      14.573812\n",
            "9                 2500      34.777721\n",
            "10                5000      73.485057\n",
            "11                7500     121.210337\n",
            "12               10000     159.508626\n",
            "13               25000     445.028464\n",
            "14               50000     971.740087\n",
            "15               75000    1535.156012\n",
            "16              100000    2298.220158\n",
            "17              250000    5797.743718\n",
            "18              500000   12582.861026\n",
            "19              750000   19591.119846\n",
            "20             1000000   26881.537994\n",
            "21             2500000   73584.076325\n",
            "22             5000000  157162.860870\n",
            "23             7500000  254268.342177\n"
          ],
          "name": "stdout"
        }
      ]
    },
    {
      "cell_type": "code",
      "metadata": {
        "id": "ekmwn3eMOdJ7",
        "colab_type": "code",
        "colab": {
          "base_uri": "https://localhost:8080/",
          "height": 283
        },
        "outputId": "5301b520-4057-47b4-c971-b7771f0113e6"
      },
      "source": [
        "# Plot graphs\n",
        "\n",
        "ax = plt.gca()\n",
        "\n",
        "graph_type = 'line'\n",
        "dic_key = 'number of elements'\n",
        "max_size = 500000\n",
        "\n",
        "df_1.loc[(df[dic_key]) <= max_size].plot(kind=graph_type,x='number of elements',y='average time', ax=ax, label='selectionsort')\n",
        "df_2.loc[(df[dic_key]) <= max_size].plot(kind=graph_type,x='number of elements',y='average time', color='red', ax=ax, label='insertionsort')\n",
        "df_3.loc[(df[dic_key]) <= max_size].plot(kind=graph_type,x='number of elements',y='average time', color='green', ax=ax, label='mergesort')\n",
        "df_4.loc[(df[dic_key]) <= max_size].plot(kind=graph_type,x='number of elements',y='average time', color='yellow', ax=ax, label='heapsort')\n",
        "df_5.loc[(df[dic_key]) <= max_size].plot(kind=graph_type,x='number of elements',y='average time', color='black', ax=ax, label='quicksort')\n",
        "df_6.loc[(df[dic_key]) <= max_size].plot(kind=graph_type,x='number of elements',y='average time', color='purple', ax=ax, label='introsort')\n",
        "df_7.loc[(df[dic_key]) <= max_size].plot(kind=graph_type,x='number of elements',y='average time', color='orange', ax=ax, label='patiencesort')\n",
        "\n",
        "plt.show()"
      ],
      "execution_count": 114,
      "outputs": [
        {
          "output_type": "display_data",
          "data": {
            "image/png": "[encoded data removed]",
            "text/plain": [
              "<Figure size 432x288 with 1 Axes>"
            ]
          },
          "metadata": {
            "tags": []
          }
        }
      ]
    },
    {
      "cell_type": "code",
      "metadata": {
        "id": "M1oCiG70Rcv_",
        "colab_type": "code",
        "colab": {
          "base_uri": "https://localhost:8080/",
          "height": 283
        },
        "outputId": "8062dfc2-3e41-46c3-b20f-c0da2f6f9477"
      },
      "source": [
        "# Plot graph of the best three\n",
        "\n",
        "ax = plt.gca()\n",
        "\n",
        "graph_type = 'line'\n",
        "dic_key = 'number of elements'\n",
        "max_size = 75000000\n",
        "\n",
        "df_3.loc[(df[dic_key]) <= max_size].plot(kind=graph_type,x='number of elements',y='average time', color='green', ax=ax, label='mergesort')\n",
        "df_5.loc[(df[dic_key]) <= max_size].plot(kind=graph_type,x='number of elements',y='average time', color='black', ax=ax, label='quicksort')\n",
        "\n",
        "plt.show()"
      ],
      "execution_count": 115,
      "outputs": [
        {
          "output_type": "display_data",
          "data": {
            "image/png": "[encoded data removed]",
            "text/plain": [
              "<Figure size 432x288 with 1 Axes>"
            ]
          },
          "metadata": {
            "tags": []
          }
        }
      ]
    }
  ]
}